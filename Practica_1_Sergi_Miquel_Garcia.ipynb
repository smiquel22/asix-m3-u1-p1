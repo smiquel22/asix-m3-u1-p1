{
  "nbformat": 4,
  "nbformat_minor": 0,
  "metadata": {
    "colab": {
      "provenance": [],
      "collapsed_sections": []
    },
    "kernelspec": {
      "name": "python3",
      "display_name": "Python 3"
    },
    "language_info": {
      "name": "python"
    }
  },
  "cells": [
    {
      "cell_type": "markdown",
      "source": [
        "1.\tCrea una frase i transforma-la en una llista. Mostra la llista per pantalla. Després, mostra la seva llista al revés. En acabat, mostra la seva longitud."
      ],
      "metadata": {
        "id": "i3OXcbCnS2G4"
      }
    },
    {
      "cell_type": "code",
      "execution_count": null,
      "metadata": {
        "colab": {
          "base_uri": "https://localhost:8080/"
        },
        "id": "sdF2P7XdSvdK",
        "outputId": "3b2f1bec-3ebd-4fd6-96ab-56eb55d122da"
      },
      "outputs": [
        {
          "output_type": "stream",
          "name": "stdout",
          "text": [
            "['M', 'o', 'n', 'd', 'o', 'n', 'g', 'o']\n",
            "['o', 'g', 'n', 'o', 'd', 'n', 'o', 'M']\n",
            "La palabra Mondongo y su lista tienen 8 letras o valores\n"
          ]
        }
      ],
      "source": [
        "frase = \"Mondongo\"\n",
        "lista = list(frase)\n",
        "print(lista)\n",
        "\n",
        "lista.reverse()\n",
        "print(lista)\n",
        "\n",
        "print(f\"La palabra Mondongo y su lista tienen {len(lista)} letras o valores\")"
      ]
    },
    {
      "cell_type": "markdown",
      "source": [
        "2.\tDesenvolupa un programa que demani tres nombres a l’usuari i indiqui quin d’ells és més gran."
      ],
      "metadata": {
        "id": "4BFIIUPNS6HX"
      }
    },
    {
      "cell_type": "code",
      "source": [
        "print(\"A continuación se le va a preguntar 3 números y se le indicará cuál es el más grande: \")\n",
        "lista = []\n",
        "for x in range(3):\n",
        "  y = int(input(\"Indique número: \"))\n",
        "  lista.append(y)\n",
        "print(f\"El número más alto introducido es {max(lista)}\")"
      ],
      "metadata": {
        "colab": {
          "base_uri": "https://localhost:8080/"
        },
        "id": "BlRZazC7S93n",
        "outputId": "28f1a72f-1a84-4726-eb27-f3b53e501963"
      },
      "execution_count": null,
      "outputs": [
        {
          "output_type": "stream",
          "name": "stdout",
          "text": [
            "A continuación se le va a preguntar 3 números y se le indicará cuál es el más grande: \n",
            "Indique número: 5\n",
            "Indique número: 7\n",
            "Indique número: 8\n",
            "El número más alto introducido es 8\n"
          ]
        }
      ]
    },
    {
      "cell_type": "markdown",
      "source": [
        "3.\tEscriu una funció que retorni les posicions imparells del següent array: vector = [3,6,2,9,7,4,5,7]. Ha de mostrar per pantalla 6, 9, 4, 7."
      ],
      "metadata": {
        "id": "IPY8uSP6S-Ig"
      }
    },
    {
      "cell_type": "code",
      "source": [
        "vector = [3,6,2,9,7,4,5,7]\n",
        "for x in range(0,len(vector)):\n",
        "  if(x%2 != 0):\n",
        "    print(vector[x])\n",
        "  "
      ],
      "metadata": {
        "colab": {
          "base_uri": "https://localhost:8080/"
        },
        "id": "e4lKmls3S-4v",
        "outputId": "ad714bd8-824a-4e1e-b03d-52ff30944a63"
      },
      "execution_count": null,
      "outputs": [
        {
          "output_type": "stream",
          "name": "stdout",
          "text": [
            "6\n",
            "9\n",
            "4\n",
            "7\n"
          ]
        }
      ]
    },
    {
      "cell_type": "markdown",
      "source": [
        "\n",
        "\n",
        "```\n",
        "# This is formatted as code\n",
        "```\n",
        "\n",
        "4.\tDesenvolupa un programa que calculi la mitja de l’array (20,3,15,18)"
      ],
      "metadata": {
        "id": "wprIOQaMS_kW"
      }
    },
    {
      "cell_type": "code",
      "source": [
        "lista = [20,3,15,18]\n",
        "suma = 0\n",
        "for x in range(0,len(lista)):\n",
        "  suma = suma + lista[x]\n",
        "print(f\"La mitja del array es {suma/len(lista)}\")"
      ],
      "metadata": {
        "colab": {
          "base_uri": "https://localhost:8080/"
        },
        "id": "Kx8iAwCoS_6u",
        "outputId": "0069ef20-9e38-40e9-a8fe-14f891bc6975"
      },
      "execution_count": null,
      "outputs": [
        {
          "output_type": "stream",
          "name": "stdout",
          "text": [
            "La mitja del array es 14.0\n"
          ]
        }
      ]
    },
    {
      "cell_type": "markdown",
      "source": [
        "5.\tGenera un codi vagi recorrent la frase: “En un lugar de la Mancha” fins que trobi la M. En acabat, ha de dir quantes lletres i espais hi ha fins la M."
      ],
      "metadata": {
        "id": "N6XFZuLjTAJG"
      }
    },
    {
      "cell_type": "code",
      "source": [
        "frase = \"En un lugar de la Mancha\"\n",
        "lista = []\n",
        "for x in (frase):\n",
        "  if(x == \"M\"):  \n",
        "    break\n",
        "  else:\n",
        "    lista.append(x)\n",
        "print(f\"En la frase hay {len(lista)} carácteres hasta llegar a la M (sin incluirla)\")\n",
        "print(lista)\n",
        "  "
      ],
      "metadata": {
        "colab": {
          "base_uri": "https://localhost:8080/"
        },
        "id": "8wTB1w4ATAag",
        "outputId": "ae0bba90-11ef-44af-eb91-325a250ee1ed"
      },
      "execution_count": null,
      "outputs": [
        {
          "output_type": "stream",
          "name": "stdout",
          "text": [
            "En la frase hay 18 carácteres hasta llegar a la M (sin incluirla)\n",
            "['E', 'n', ' ', 'u', 'n', ' ', 'l', 'u', 'g', 'a', 'r', ' ', 'd', 'e', ' ', 'l', 'a', ' ']\n"
          ]
        }
      ]
    },
    {
      "cell_type": "markdown",
      "source": [
        "6.\tModifica el següent codi per a que no es mostrin mai les “a”:\n",
        "\n",
        "frase = \"Soy el mas guay del paraguay\"\n",
        "for i in frase:\n",
        "print(i)\n"
      ],
      "metadata": {
        "id": "iepUDkBaTAwX"
      }
    },
    {
      "cell_type": "code",
      "source": [
        "frase = \"Soy el mas guay del paraguay\"\n",
        "for i in frase:\n",
        "  if(i != \"a\"):\n",
        "    print(i)"
      ],
      "metadata": {
        "colab": {
          "base_uri": "https://localhost:8080/"
        },
        "id": "vZgGGW2JTBoX",
        "outputId": "4979a2ff-b4fe-4cd8-f2b8-5a98a8aff6e2"
      },
      "execution_count": null,
      "outputs": [
        {
          "output_type": "stream",
          "name": "stdout",
          "text": [
            "S\n",
            "o\n",
            "y\n",
            " \n",
            "e\n",
            "l\n",
            " \n",
            "m\n",
            "s\n",
            " \n",
            "g\n",
            "u\n",
            "y\n",
            " \n",
            "d\n",
            "e\n",
            "l\n",
            " \n",
            "p\n",
            "r\n",
            "g\n",
            "u\n",
            "y\n"
          ]
        }
      ]
    },
    {
      "cell_type": "markdown",
      "source": [
        "7.\tEscriu un programa que a cada component de l’array = [4,4,5,2,7,3] li sumi 3 utilitzant un bucle for. L’array ha de quedar array=[7,7,8,5,10,6]."
      ],
      "metadata": {
        "id": "0Dwgg7ouTB5Y"
      }
    },
    {
      "cell_type": "code",
      "source": [
        "lista = [4,4,5,2,7,3]\n",
        "for x in range(0,len(lista)):\n",
        "  lista[x] = lista[x] + 3\n",
        "print(lista)"
      ],
      "metadata": {
        "colab": {
          "base_uri": "https://localhost:8080/"
        },
        "id": "UPwPc3opTCnf",
        "outputId": "b526853a-482a-4016-a61e-b7caa5512fbb"
      },
      "execution_count": null,
      "outputs": [
        {
          "output_type": "stream",
          "name": "stdout",
          "text": [
            "[7, 7, 8, 5, 10, 6]\n"
          ]
        }
      ]
    },
    {
      "cell_type": "markdown",
      "source": [
        "\n",
        "\n",
        "```\n",
        "# This is formatted as code\n",
        "```\n",
        "\n",
        "8.\tCrea una “tragaperras” de tres nombres entre 0 i 5. S’indica a l’usuari quins nombres han sortit. Si coincideixen, un missatge ha de dir: “has guanyat” i sortir del programa. L’usuari pot fer el nombre de tirades que vulgui fins que digui “prou”. S’ha de mostrar el nombre de jugades fins a dir “prou”. S’ha de mostrar també el nombre de diners perduts. Cada tirada costa 1€ i guanyar dona 10€."
      ],
      "metadata": {
        "id": "ZFlarV2zTDBe"
      }
    },
    {
      "cell_type": "code",
      "source": [
        "import random\n",
        "pregunta = \"Jugar\"\n",
        "dinero = 5\n",
        "jugadas = 0\n",
        "dinero = dinero + int(input(\"Cuánto dinero tienes?: \"))\n",
        "print(\"Aun así te regalamos 5€, quieres jugar?\")\n",
        "while(pregunta == \"Jugar\"):\n",
        "  pregunta = input(\"Responde con Jugar o Prou para continuar o detener la máquina: \")\n",
        "  if(pregunta != \"Jugar\"):\n",
        "    if(pregunta != \"Prou\"):\n",
        "      print(\"Respuesta no reconocida, error grave del sistema, vuelva a iniciar la máquina.\")\n",
        "      break\n",
        "  if(pregunta == \"Prou\"):\n",
        "    if(jugadas == 0):\n",
        "      print(\"No has jugado ninguna vez, no nos times nuestro regalo >_<\")\n",
        "      break\n",
        "    print(f\"Te has retirado con {dinero}€.\")\n",
        "    break    \n",
        "  num1 = random.randint(0,5)\n",
        "  num2 = random.randint(0,5)\n",
        "  num3 = random.randint(0,5)\n",
        "  print(f\"Han salido los números {num1}, {num2} y {num3}.\")\n",
        "  if(num1 != num2 or num1 != num3):\n",
        "    dinero = dinero - 1\n",
        "    print(\"Has perdido\")\n",
        "  if(num1 == num2 and num1 == num3):\n",
        "    dinero = dinero + 10\n",
        "    print(\"Has ganado\")\n",
        "  jugadas = jugadas + 1\n",
        "  print(f\"Has jugado {jugadas} veces seguidas en ésta máquina\")  \n",
        "  print(f\"Tienes {dinero}€ en la cuenta.\")\n",
        "  if(dinero == 0):\n",
        "    print()\n",
        "    print(\"No tienes dinero pobreton >:, ve a pedirle más a tu mamá para jugar.\")\n",
        "    break\n",
        "  print()  "
      ],
      "metadata": {
        "colab": {
          "base_uri": "https://localhost:8080/"
        },
        "id": "ZWFV67y9xlbY",
        "outputId": "8c2158c6-31cd-4c47-c706-962aff1120d1"
      },
      "execution_count": null,
      "outputs": [
        {
          "output_type": "stream",
          "name": "stdout",
          "text": [
            "Cuánto dinero tienes?: 0\n",
            "Aun así te regalamos 5€, quieres jugar?\n",
            "Responde con Jugar o Prou para continuar o detener la máquina: no\n",
            "Respuesta no reconocida, error grave del sistema, vuelva a iniciar la máquina.\n"
          ]
        }
      ]
    },
    {
      "cell_type": "markdown",
      "source": [
        "9.\tCrea un codi que mostri per pantalla els elements imparells de la següent llista = [15,10,3,45,56,2,2,68,10,23] fins que s’arribi al 68."
      ],
      "metadata": {
        "id": "yZn2e1EoTDnv"
      }
    },
    {
      "cell_type": "code",
      "source": [
        "lista = [15,10,3,45,56,2,2,68,10,23]\n",
        "if 68 in lista:\n",
        "  for x in range(0,len(lista)):\n",
        "    if(lista[x] == 68):\n",
        "      break\n",
        "    elif(lista[x]%2 != 0):\n",
        "      print(lista[x])"
      ],
      "metadata": {
        "id": "nihT5wGkTE-m",
        "colab": {
          "base_uri": "https://localhost:8080/"
        },
        "outputId": "d02af0da-d613-43a2-a54a-0ffb51f8de63"
      },
      "execution_count": null,
      "outputs": [
        {
          "output_type": "stream",
          "name": "stdout",
          "text": [
            "15\n",
            "3\n",
            "45\n"
          ]
        }
      ]
    },
    {
      "cell_type": "markdown",
      "source": [
        "10.\tCrea el joc del penjat. Crea una paraula secreta de cinc lletres. S’ha d’anar mostrant per pantalla _ _ _ _ _ i substituint les _ a mesura que l’usuari vagi introduint lletres correctes. El programa acabarà després de 10 intents o si la paraula s’encerta."
      ],
      "metadata": {
        "id": "Ct94_y-iTFKe"
      }
    },
    {
      "cell_type": "code",
      "source": [
        "listapalabra = [\"p\",\"o\",\"d\",\"e\",\"r\"]\n",
        "print(\"Juguemos al ahorcado, tendrás 10 intentos para acertar mi palabra\")\n",
        "print(\"['_','_','_','_','_']\")\n",
        "inputs = [\"_\",\"_\",\"_\",\"_\",\"_\"]\n",
        "contador = 0\n",
        "while(listapalabra != inputs):\n",
        "  x = input(\"Dime una letra minúscula: \")\n",
        "  if(x == \"p\"):\n",
        "    del(inputs[0])\n",
        "    inputs.insert(0,\"p\")\n",
        "  elif(x == \"o\"):\n",
        "    del(inputs[1])\n",
        "    inputs.insert(1,\"o\")\n",
        "  elif(x == \"d\"):\n",
        "    del(inputs[2])\n",
        "    inputs.insert(2,\"d\")\n",
        "  elif(x == \"e\"):\n",
        "    del(inputs[3])\n",
        "    inputs.insert(3,\"e\")\n",
        "  elif(x == \"r\"):\n",
        "    del(inputs[4])\n",
        "    inputs.insert(4,\"r\")\n",
        "  else:\n",
        "    print(\"Esa letra no me vale :(.\")\n",
        "  print(inputs)\n",
        "  contador = contador + 1\n",
        "  print(f\"Te quedan {10-contador} intentos.\")\n",
        "  print()\n",
        "  if(contador == 10):\n",
        "    print(\"No te quedan intentos.\")\n",
        "    break\n",
        "if(listapalabra == inputs):\n",
        "  print(f\"Has ganado! La palabra era: poder \")\n",
        "else:\n",
        "  print(\"Perdiste malísimo :)\")"
      ],
      "metadata": {
        "id": "vFFzzSskTFvv",
        "colab": {
          "base_uri": "https://localhost:8080/"
        },
        "outputId": "40eb306a-5698-4422-e892-3b1f6688d365"
      },
      "execution_count": null,
      "outputs": [
        {
          "output_type": "stream",
          "name": "stdout",
          "text": [
            "Juguemos al ahorcado, tendrás 10 intentos para acertar mi palabra\n",
            "['_','_','_','_','_']\n",
            "Dime una letra minúscula: r\n",
            "['_', '_', '_', '_', 'r']\n",
            "Te quedan 9 intentos.\n",
            "\n",
            "Dime una letra minúscula: o\n",
            "['_', 'o', '_', '_', 'r']\n",
            "Te quedan 8 intentos.\n",
            "\n",
            "Dime una letra minúscula: e\n",
            "['_', 'o', '_', 'e', 'r']\n",
            "Te quedan 7 intentos.\n",
            "\n",
            "Dime una letra minúscula: d\n",
            "['_', 'o', 'd', 'e', 'r']\n",
            "Te quedan 6 intentos.\n",
            "\n",
            "Dime una letra minúscula: p\n",
            "['p', 'o', 'd', 'e', 'r']\n",
            "Te quedan 5 intentos.\n",
            "\n",
            "Has ganado! La palabra era: poder \n"
          ]
        }
      ]
    },
    {
      "cell_type": "markdown",
      "source": [
        "11.\tCrea un codi que obtingui 5 nombres aleatoris del 1 al 5 i els vagi guardant en una llista mitjançant un for. Només que un dels nombres sigui el 3, el for s’ha d’aturar i mostrar la llista amb els nombres que tingui."
      ],
      "metadata": {
        "id": "UGrGXEGQTZ8-"
      }
    },
    {
      "cell_type": "code",
      "source": [
        "import random\n",
        "lista = []\n",
        "for x in range(0,5):\n",
        "  y = random.randint(1,5)\n",
        "  print(y)\n",
        "  if(y == 3):\n",
        "    break\n",
        "  lista.append(y)\n",
        "print(lista)\n"
      ],
      "metadata": {
        "id": "bHeulwP3TaNP"
      },
      "execution_count": null,
      "outputs": []
    },
    {
      "cell_type": "markdown",
      "source": [
        "12.\tCrear un programa que afegeixi números a una llista fins que introduïm un número negatiu. A continuació heu de crear una nova llista igual que l'anterior però eliminant els números duplicats. Mostra aquesta segona llista per comprovar que hem eliminat els duplicats."
      ],
      "metadata": {
        "id": "cnmwkeyrTbfH"
      }
    },
    {
      "cell_type": "code",
      "source": [
        "lista = []\n",
        "listaelim = []\n",
        "introducir = int(input(\"Añade un número: \"))\n",
        "while(introducir >= 0):\n",
        "  lista.append(introducir)\n",
        "  listaelim.append(introducir)\n",
        "  introducir = int(input(\"Añade un número: \"))\n",
        "  if introducir in lista:\n",
        "    listaelim.remove(introducir)\n",
        "print(f\"Esta es la lista original: {lista}\")\n",
        "print(f\"Esta es la lista sin duplicados: {listaelim}\")\n"
      ],
      "metadata": {
        "id": "hUo4dlBNyn--",
        "colab": {
          "base_uri": "https://localhost:8080/"
        },
        "outputId": "1db8c658-3283-4cca-8f40-0ee331085e14"
      },
      "execution_count": null,
      "outputs": [
        {
          "output_type": "stream",
          "name": "stdout",
          "text": [
            "Añade un número: 5\n",
            "Añade un número: 4\n",
            "Añade un número: 3\n",
            "Añade un número: 2\n",
            "Añade un número: 6\n",
            "Añade un número: 7\n",
            "Añade un número: 8\n",
            "Añade un número: 8\n",
            "Añade un número: 7\n",
            "Añade un número: 6\n",
            "Añade un número: 5\n",
            "Añade un número: 4\n",
            "Añade un número: 3\n",
            "Añade un número: 3\n",
            "Añade un número: -1\n",
            "Esta es la lista original: [5, 4, 3, 2, 6, 7, 8, 8, 7, 6, 5, 4, 3, 3]\n",
            "Esta es la lista sin duplicados: [2, 8, 7, 6, 5, 4, 3]\n"
          ]
        }
      ]
    },
    {
      "cell_type": "markdown",
      "source": [
        "13.\tS’ha decidit fer una recuperació d’un examen de programació d’ASIX que ha anat molt malament per diversos motius. Dissenya un programa que pregunti quina nota s’ha tret en el primer examen i quina nota es creu que es traurà en aquest examen de recuperació. Després es pregunta a l’usuari quin criteri creu que farà servir el professor per tenir la nota final del parcial basant-se en els següents criteris i es mostrarà la nota final.\n",
        "•El professor farà una bona mitja. La nota final serà el 20% de la nota del primer examen i el 80% de la nota d’aquest examen.\n",
        "•El professor farà una mitja normal. La nota final serà el 35% de la nota del primer examen i el 65% de la nota d’aquest examen.\n",
        "•El professor farà una mala mitja. La nota final serà el 50% de la nota del primer examen i el 50% de la nota d’aquest examen.\n"
      ],
      "metadata": {
        "id": "WHRDcHtiThcu"
      }
    },
    {
      "cell_type": "code",
      "source": [
        "nota1 = float(input(\"Qué nota has sacado en la evaluación continua?: \"))\n",
        "notarecu = float(input(\"Qué nota crees que sacarás en esta recuperación?: \"))\n",
        "criterio = input(\"Qué criterio crees que tendrá el profesor en la nota final: Bueno, Normal o Malo \")\n",
        "if(criterio == \"Bueno\"):\n",
        "  notafinal = (0.2*nota1) + (0.8*notarecu)\n",
        "  print(f\"La nota final del examen será {notafinal} \")\n",
        "elif(criterio == \"Normal\"):\n",
        "  notafinal = (0.35*nota1) + (0.65*notarecu)\n",
        "  print(f\"La nota final del examen será {notafinal} \")\n",
        "elif(criterio == \"Malo\"):\n",
        "  notafinal = (0.5*nota1) + (0.5*notarecu)\n",
        "  print(f\"La nota final del examen será {notafinal} \")\n",
        "else:\n",
        "  print(\"Ese criterio no existe bruh\")"
      ],
      "metadata": {
        "id": "EvMzIY8iTci-",
        "colab": {
          "base_uri": "https://localhost:8080/"
        },
        "outputId": "06ea8fd9-30c2-47c4-9682-344329894246"
      },
      "execution_count": null,
      "outputs": [
        {
          "output_type": "stream",
          "name": "stdout",
          "text": [
            "Qué nota has sacado en la evaluación continua?: 5\n",
            "Qué nota crees que sacarás en esta recuperación?: 10\n",
            "Qué criterio crees que tendrá el profesor en la nota final: Bueno, Normal o Malo Malo\n",
            "La nota final del examen será 7.5 \n"
          ]
        }
      ]
    },
    {
      "cell_type": "markdown",
      "source": [
        "14.\tModifica el programa anterior per a que la nota final s’obtingui de forma aleatòria tenin en compte la següent comanda rand = random.uniform(0,1). Aquesta comanda obté un nombre aleatori amb decimals entre 0 i 1. La nota del primer examen es multiplicarà per aquest factor i la d’aquest examen per la resta. S’ha de mostrar la nota final."
      ],
      "metadata": {
        "id": "w6tWINxbTczl"
      }
    },
    {
      "cell_type": "code",
      "source": [
        "import random\n",
        "nota1 = float(input(\"Qué nota has sacado en la evaluación continua?: \"))\n",
        "notarecu = float(input(\"Qué nota crees que sacarás en esta recuperación?: \"))\n",
        "rand = random.uniform(0,1)\n",
        "print(f\"Tu primera nota se multiplica por {rand} y tu segunda por {1-rand}. Espero que tengas la suerte de tu lado.\")\n",
        "notafinal = (nota1*rand) + (notarecu*(1-rand))\n",
        "print(f\"La nota final del examen será {notafinal} \")"
      ],
      "metadata": {
        "id": "07OkU0NYTdRu",
        "colab": {
          "base_uri": "https://localhost:8080/"
        },
        "outputId": "2db1215d-7afa-48cf-f24d-a3b9d028b230"
      },
      "execution_count": null,
      "outputs": [
        {
          "output_type": "stream",
          "name": "stdout",
          "text": [
            "Qué nota has sacado en la evaluación continua?: 10\n",
            "Qué nota crees que sacarás en esta recuperación?: 10\n",
            "Tu primera nota se multiplica por 0.1844337730750727 y tu segunda por 0.8155662269249273. Espero que tengas la suerte de tu lado.\n",
            "La nota final del examen será 10.0 \n"
          ]
        }
      ]
    },
    {
      "cell_type": "markdown",
      "source": [
        "15.\tDonada la següent llista = [39,62,24,71,40,53,12,99,20,111], desenvolupa un programa que generi una llista amb els nombres divisibles entre 3 i una altra llista amb els que no ho son. Un cop estan distribuits, la llista original s’ha de substituir per un 0 en tots els seus elements. Un cop acabat, es mostren totes les llistes."
      ],
      "metadata": {
        "id": "tCcK-SKuTvCw"
      }
    },
    {
      "cell_type": "code",
      "source": [
        "lista = [39,62,24,71,40,53,12,99,20,111]\n",
        "listadivisibles = []\n",
        "listanodivisibles = []\n",
        "print(f\"Lista original: {lista}\")\n",
        "for x in range(0,len(lista)):\n",
        "  if(lista[x]%3 == 0):\n",
        "    listadivisibles.append(lista[x])\n",
        "  if(lista[x]%3 != 0):\n",
        "    listanodivisibles.append(lista[x])\n",
        "for x in range(0,len(lista)):\n",
        "  lista[x] = 0\n",
        "print(f\"La lista de divisibles entre 3 es: {listadivisibles}\")\n",
        "print(f\"La lista de NO divisibles entre 3 es: {listanodivisibles}\")\n",
        "print(f\"La lista original modificada es: {lista}\")"
      ],
      "metadata": {
        "id": "gsaPWUp4TwCT",
        "colab": {
          "base_uri": "https://localhost:8080/"
        },
        "outputId": "632a4b71-0493-4914-cba3-1a542c67a325"
      },
      "execution_count": null,
      "outputs": [
        {
          "output_type": "stream",
          "name": "stdout",
          "text": [
            "Lista original: [39, 62, 24, 71, 40, 53, 12, 99, 20, 111]\n",
            "La lista de divisibles entre 3 es: [39, 24, 12, 99, 111]\n",
            "La lista de NO divisibles entre 3 es: [62, 71, 40, 53, 20]\n",
            "La lista original modificada es: [0, 0, 0, 0, 0, 0, 0, 0, 0, 0]\n"
          ]
        }
      ]
    }
  ]
}